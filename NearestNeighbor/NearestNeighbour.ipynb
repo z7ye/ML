{
 "cells": [
  {
   "cell_type": "markdown",
   "metadata": {},
   "source": [
    "### Implement the Algorithm"
   ]
  },
  {
   "cell_type": "code",
   "execution_count": null,
   "metadata": {},
   "outputs": [],
   "source": [
    "import numpy as np\n",
    "\n",
    "class NearestNeighbour:\n",
    "    def __init__(self):\n",
    "        pass\n",
    "    def train(self, X, y):\n",
    "        \"\"\" \n",
    "        X is N x D where each row is an image. y is N x 1 and each cell is a the class label\n",
    "        \"\"\"\n",
    "        self.Xtr = X\n",
    "        self.ytr = y\n",
    "        \n",
    "    def test(self, X):\n",
    "        \"\"\" \n",
    "        X is N x D test dataset which we will predict the label.\n",
    "        \"\"\"\n",
    "        size_test = X.shape[0]\n",
    "        ypred = np.zeros(size_test, dtype = self.ytr.dtype)\n",
    "        ## loop through each test image to find the nearest neighbor\n",
    "        for i in size_test:\n",
    "            ## here we use L1 distance\n",
    "            distances = np.sum(np.abs(self.Xtr - X[i, :]), axis = 1)\n",
    "            min_idx = np.argmin(distances)\n",
    "            ypred[i] = self.ytr[min_idx]\n",
    "        return ypred"
   ]
  }
 ],
 "metadata": {
  "kernelspec": {
   "display_name": "Python 3",
   "language": "python",
   "name": "python3"
  },
  "language_info": {
   "codemirror_mode": {
    "name": "ipython",
    "version": 3
   },
   "file_extension": ".py",
   "mimetype": "text/x-python",
   "name": "python",
   "nbconvert_exporter": "python",
   "pygments_lexer": "ipython3",
   "version": "3.7.2"
  }
 },
 "nbformat": 4,
 "nbformat_minor": 2
}
